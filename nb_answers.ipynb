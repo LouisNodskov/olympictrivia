{
 "cells": [
  {
   "cell_type": "code",
   "execution_count": 2,
   "metadata": {},
   "outputs": [],
   "source": [
    "import pandas as pd\n",
    "import numpy as np"
   ]
  },
  {
   "cell_type": "markdown",
   "metadata": {},
   "source": [
    "## Question 1:\n",
    "\n",
    "### Which athlete has won the most Olympic medals?"
   ]
  },
  {
   "cell_type": "code",
   "execution_count": 3,
   "metadata": {},
   "outputs": [
    {
     "name": "stdout",
     "output_type": "stream",
     "text": [
      "Medal    18\n",
      "Name: LATYNINA, Larisa, dtype: int64\n"
     ]
    }
   ],
   "source": [
    "od = pd.read_csv('data/olympics.csv', skiprows=4) # olympic data (od)\n",
    "\n",
    "ath_count = od.groupby('Athlete').agg({'Medal':'count'}).sort_values(by='Medal').iloc[-1]\n",
    "\n",
    "print(ath_count)"
   ]
  },
  {
   "cell_type": "markdown",
   "metadata": {},
   "source": [
    "## Question 2:\n",
    "\n",
    "### Which city has held the modern Games three times?"
   ]
  },
  {
   "cell_type": "code",
   "execution_count": 4,
   "metadata": {},
   "outputs": [
    {
     "name": "stdout",
     "output_type": "stream",
     "text": [
      "Edition    2\n",
      "Name: Los Angeles, dtype: int64\n"
     ]
    }
   ],
   "source": [
    "o_cities = od[['Edition', 'City']].drop_duplicates().groupby('City').agg({'Edition':'count'}).sort_values(by='Edition').iloc[-1]\n",
    "\n",
    "print(o_cities) "
   ]
  },
  {
   "cell_type": "markdown",
   "metadata": {},
   "source": [
    "Four-way tie, London held games in 2012 so that is the answer."
   ]
  },
  {
   "cell_type": "markdown",
   "metadata": {},
   "source": [
    "## Question 3: \n",
    "\n",
    "### Fourteen countries competed in the first modern Games in 1896. Which country topped the medal table?"
   ]
  },
  {
   "cell_type": "code",
   "execution_count": 5,
   "metadata": {},
   "outputs": [
    {
     "data": {
      "text/plain": [
       "Medal    52\n",
       "Name: GRE, dtype: int64"
      ]
     },
     "execution_count": 5,
     "metadata": {},
     "output_type": "execute_result"
    }
   ],
   "source": [
    "od[od['Edition'] == 1896].groupby('NOC').agg({'Medal':'count'}).sort_values(by='Medal').iloc[-1]"
   ]
  },
  {
   "cell_type": "markdown",
   "metadata": {},
   "source": [
    "## Question 4:\n",
    "\n",
    "### Complete the sequence of 100m winners: Linford Christie, Donovan Bailey, Maurice Green ..."
   ]
  },
  {
   "cell_type": "code",
   "execution_count": 6,
   "metadata": {},
   "outputs": [
    {
     "name": "stdout",
     "output_type": "stream",
     "text": [
      "GATLIN, Justin\n"
     ]
    }
   ],
   "source": [
    "hm_winners = od[(od['Event'] == '100m') & (od['Medal'] == 'Gold') & (od['Gender'] == 'Men')].set_index('Athlete')\n",
    "for i in range(hm_winners.shape[0]):\n",
    "    if hm_winners.iloc[i - 1].name == 'GREENE, Maurice':\n",
    "        print(hm_winners.iloc[i].name)"
   ]
  },
  {
   "cell_type": "markdown",
   "metadata": {},
   "source": [
    "## Question 5:\n",
    "\n",
    "### Which of these sports has never featured at the Olympics?\n",
    "\n",
    "### Options: Motorcycle racing, Croquet, Squash, Swimming obstacle race"
   ]
  },
  {
   "cell_type": "code",
   "execution_count": 7,
   "metadata": {},
   "outputs": [
    {
     "name": "stdout",
     "output_type": "stream",
     "text": [
      "8\n",
      "3\n",
      "0\n",
      "0\n"
     ]
    }
   ],
   "source": [
    "print(len(od[od['Sport'] == 'Croquet']))\n",
    "print(len(od[od['Event'].str.contains('obstacle')]))\n",
    "print(len(od[od['Sport'] == 'Squash']))\n",
    "print(len(od[od['Sport'] == 'Motorcycle racing']))"
   ]
  },
  {
   "cell_type": "markdown",
   "metadata": {},
   "source": [
    "Both Motorcycle racing and squash are possible options."
   ]
  },
  {
   "cell_type": "markdown",
   "metadata": {},
   "source": [
    "## Question 6:\n",
    "\n",
    "### In which event did Baron Pierre de Coubertin, the president of the IOC and founder of the modern Olympic movement, win a gold medal at the 1912 Games?"
   ]
  },
  {
   "cell_type": "code",
   "execution_count": 8,
   "metadata": {},
   "outputs": [
    {
     "data": {
      "text/html": [
       "<div>\n",
       "<style scoped>\n",
       "    .dataframe tbody tr th:only-of-type {\n",
       "        vertical-align: middle;\n",
       "    }\n",
       "\n",
       "    .dataframe tbody tr th {\n",
       "        vertical-align: top;\n",
       "    }\n",
       "\n",
       "    .dataframe thead th {\n",
       "        text-align: right;\n",
       "    }\n",
       "</style>\n",
       "<table border=\"1\" class=\"dataframe\">\n",
       "  <thead>\n",
       "    <tr style=\"text-align: right;\">\n",
       "      <th></th>\n",
       "      <th>City</th>\n",
       "      <th>Edition</th>\n",
       "      <th>Sport</th>\n",
       "      <th>Discipline</th>\n",
       "      <th>Athlete</th>\n",
       "      <th>NOC</th>\n",
       "      <th>Gender</th>\n",
       "      <th>Event</th>\n",
       "      <th>Event_gender</th>\n",
       "      <th>Medal</th>\n",
       "    </tr>\n",
       "  </thead>\n",
       "  <tbody>\n",
       "  </tbody>\n",
       "</table>\n",
       "</div>"
      ],
      "text/plain": [
       "Empty DataFrame\n",
       "Columns: [City, Edition, Sport, Discipline, Athlete, NOC, Gender, Event, Event_gender, Medal]\n",
       "Index: []"
      ]
     },
     "execution_count": 8,
     "metadata": {},
     "output_type": "execute_result"
    }
   ],
   "source": [
    "od[od['Athlete'].str.contains('DE COUBERTIN')]"
   ]
  },
  {
   "cell_type": "markdown",
   "metadata": {},
   "source": [
    "Name not in dataset, after looking it up he won in the 'Literature' event for his poem 'Ode to Sport' in the 1912 games."
   ]
  },
  {
   "cell_type": "markdown",
   "metadata": {},
   "source": [
    "## Question 7:\n",
    "\n",
    "### Seventy-five of the 206 national Olympic committees have never won a medal at the Olympics. Which of these countries has the largest population?"
   ]
  },
  {
   "cell_type": "code",
   "execution_count": 9,
   "metadata": {},
   "outputs": [
    {
     "name": "stdout",
     "output_type": "stream",
     "text": [
      "Country Name     Bangladesh\n",
      "2008            144304164.0\n",
      "Name: 20, dtype: object\n"
     ]
    }
   ],
   "source": [
    "pop = pd.read_csv('data/population.csv', skiprows=4)\n",
    "pop = pop[['Country Name', '2008']]\n",
    "ioc = pd.read_csv('data/ioccodes.csv')\n",
    "od_countries = od['NOC'].drop_duplicates()\n",
    "od_np = od_countries.to_numpy()\n",
    "code_np = ioc['Int Olympic Committee code'].to_numpy()\n",
    "no_medals = np.setdiff1d(code_np, od_np)\n",
    "full_country_names = np.array(\n",
    "    [np.char.strip(i, '*') for i in ioc[ioc['Int Olympic Committee code'].isin(no_medals)]['Country'].to_numpy()]\n",
    ").flatten()\n",
    "pop_no_medals = pop[pop['Country Name'].isin(full_country_names)].sort_values(by='2008')\n",
    "print(pop_no_medals.iloc[-1]) "
   ]
  },
  {
   "cell_type": "markdown",
   "metadata": {},
   "source": [
    "## Question 8\n",
    "\n",
    "### Rio 2016 will be the third summer Games held in the southern hemisphere. Which city hosted the first?"
   ]
  },
  {
   "cell_type": "code",
   "execution_count": 29,
   "metadata": {},
   "outputs": [
    {
     "name": "stdout",
     "output_type": "stream",
     "text": [
      "    Edition       City\n",
      "12     1956  Melbourne\n",
      "24     2000     Sydney\n"
     ]
    }
   ],
   "source": [
    "cities = pd.read_csv('data/worldcities.csv')\n",
    "cities_sh = cities[cities['lat'] < 0]       # Southern hemisphere cities\n",
    "cities_sh_name_np = cities_sh['city'].to_numpy()\n",
    "o_cities_series = od[['City', 'Edition']].drop_duplicates()\n",
    "o_cities_series = o_cities_series.set_index('Edition').apply(\n",
    "    lambda x: x.str.split(' / ').explode()\n",
    ").reset_index()                             # Split 'Melborne / Stockholm' in two\n",
    "sh_o_cities = o_cities_series[o_cities_series['City'].isin(cities_sh_name_np)]\n",
    "\n",
    "print(sh_o_cities)"
   ]
  },
  {
   "cell_type": "markdown",
   "metadata": {},
   "source": [
    "## Question 9:\n",
    "\n",
    "### Golf is back at the Olympics this year. When did it last feature?"
   ]
  },
  {
   "cell_type": "code",
   "execution_count": 34,
   "metadata": {},
   "outputs": [
    {
     "data": {
      "text/plain": [
       "1904"
      ]
     },
     "execution_count": 34,
     "metadata": {},
     "output_type": "execute_result"
    }
   ],
   "source": [
    "golf_df = od[od['Sport'] == 'Golf']\n",
    "golf_df['Edition'].drop_duplicates().iloc[-1]"
   ]
  },
  {
   "cell_type": "markdown",
   "metadata": {},
   "source": [
    "## Question 10:\n",
    "\n",
    "### Women first competed in the modern Olympics in 1900 but only in 'ladylike sports'. Which three?"
   ]
  },
  {
   "cell_type": "code",
   "execution_count": 40,
   "metadata": {},
   "outputs": [
    {
     "name": "stdout",
     "output_type": "stream",
     "text": [
      "      Sport          Event\n",
      "416    Golf     individual\n",
      "639  Tennis  mixed doubles\n",
      "647  Tennis        singles\n"
     ]
    }
   ],
   "source": [
    "woman_df = od[(od['Edition'] == 1900) & (od['Gender'] == 'Women')]\n",
    "print(woman_df[['Sport','Event']].drop_duplicates())"
   ]
  },
  {
   "cell_type": "markdown",
   "metadata": {},
   "source": [
    "## Question 11: \n",
    "\n",
    "### Which of these athletes has won an Olympic gold medal?\n",
    "\n",
    "##### Options: Floyd Mayweather Jr., Paula Radcliffe, Lionel Messi, Steve Cram"
   ]
  },
  {
   "cell_type": "code",
   "execution_count": 44,
   "metadata": {},
   "outputs": [
    {
     "data": {
      "text/html": [
       "<div>\n",
       "<style scoped>\n",
       "    .dataframe tbody tr th:only-of-type {\n",
       "        vertical-align: middle;\n",
       "    }\n",
       "\n",
       "    .dataframe tbody tr th {\n",
       "        vertical-align: top;\n",
       "    }\n",
       "\n",
       "    .dataframe thead th {\n",
       "        text-align: right;\n",
       "    }\n",
       "</style>\n",
       "<table border=\"1\" class=\"dataframe\">\n",
       "  <thead>\n",
       "    <tr style=\"text-align: right;\">\n",
       "      <th></th>\n",
       "      <th>City</th>\n",
       "      <th>Edition</th>\n",
       "      <th>Sport</th>\n",
       "      <th>Discipline</th>\n",
       "      <th>Athlete</th>\n",
       "      <th>NOC</th>\n",
       "      <th>Gender</th>\n",
       "      <th>Event</th>\n",
       "      <th>Event_gender</th>\n",
       "      <th>Medal</th>\n",
       "    </tr>\n",
       "  </thead>\n",
       "  <tbody>\n",
       "    <tr>\n",
       "      <th>28224</th>\n",
       "      <td>Beijing</td>\n",
       "      <td>2008</td>\n",
       "      <td>Football</td>\n",
       "      <td>Football</td>\n",
       "      <td>MESSI, Lionel</td>\n",
       "      <td>ARG</td>\n",
       "      <td>Men</td>\n",
       "      <td>football</td>\n",
       "      <td>M</td>\n",
       "      <td>Gold</td>\n",
       "    </tr>\n",
       "  </tbody>\n",
       "</table>\n",
       "</div>"
      ],
      "text/plain": [
       "          City  Edition     Sport Discipline        Athlete  NOC Gender  \\\n",
       "28224  Beijing     2008  Football   Football  MESSI, Lionel  ARG    Men   \n",
       "\n",
       "          Event Event_gender Medal  \n",
       "28224  football            M  Gold  "
      ]
     },
     "execution_count": 44,
     "metadata": {},
     "output_type": "execute_result"
    }
   ],
   "source": [
    "options = np.array(['MAYWEATHER, Floyd', 'RADCLIFFE, Paula', 'MESSI, Lionel', 'CRAM, Steve'])\n",
    "\n",
    "gold_receipients = od[od['Medal'] == 'Gold']\n",
    "gold_receipients[gold_receipients['Athlete'].isin(options)]"
   ]
  },
  {
   "cell_type": "markdown",
   "metadata": {},
   "source": [
    "## Question 12:\n",
    "\n",
    "### In which sport do men and women compete against each other on equal terms?"
   ]
  },
  {
   "cell_type": "code",
   "execution_count": 49,
   "metadata": {},
   "outputs": [
    {
     "data": {
      "text/plain": [
       "348      Equestrian\n",
       "549         Sailing\n",
       "635          Tennis\n",
       "1845        Skating\n",
       "13718      Shooting\n",
       "21770     Badminton\n",
       "Name: Sport, dtype: object"
      ]
     },
     "execution_count": 49,
     "metadata": {},
     "output_type": "execute_result"
    }
   ],
   "source": [
    "gender = od[od['Event_gender'] == 'X']\n",
    "gender['Sport'].drop_duplicates() # Shooting and Equestrianism are remaining options."
   ]
  }
 ],
 "metadata": {
  "interpreter": {
   "hash": "b3ba2566441a7c06988d0923437866b63cedc61552a5af99d1f4fb67d367b25f"
  },
  "kernelspec": {
   "display_name": "Python 3.8.8 64-bit ('base': conda)",
   "language": "python",
   "name": "python3"
  },
  "language_info": {
   "codemirror_mode": {
    "name": "ipython",
    "version": 3
   },
   "file_extension": ".py",
   "mimetype": "text/x-python",
   "name": "python",
   "nbconvert_exporter": "python",
   "pygments_lexer": "ipython3",
   "version": "3.8.8"
  },
  "orig_nbformat": 4
 },
 "nbformat": 4,
 "nbformat_minor": 2
}
